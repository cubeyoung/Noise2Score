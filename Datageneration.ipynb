{
 "cells": [
  {
   "cell_type": "code",
   "execution_count": 29,
   "metadata": {},
   "outputs": [],
   "source": [
    "from torchvision import datasets  \n",
    "import numpy as np\n",
    "from matplotlib import pyplot as plt\n",
    "import os \n",
    "import imageio as io\n",
    "import glob\n",
    "from skimage.color import rgb2gray\n",
    "clean_dir = 'path_to_dataset'\n",
    "cleanout_dir = 'path/clean/'\n",
    "noisy_25_dir = 'path/noisy_25/'\n",
    "noisy_50_dir = 'path//noisy_50/'\n",
    "noisy_001_dir = 'path//noisy_0.01/'\n",
    "noisy_005_dir = 'path//noisy_0.05/'\n",
    "noisy_g50_dir = 'path//noisy_g_50/'\n",
    "noisy_g100_dir = 'path//noisy_g_100/'\n",
    "if not os.path.exists(clean_dir):\n",
    "    os.makedirs(clean_dir)\n",
    "if not os.path.exists(noisy_25_dir):\n",
    "    os.makedirs(noisy_25_dir)    \n",
    "if not os.path.exists(noisy_50_dir):\n",
    "    os.makedirs(noisy_50_dir)  \n",
    "if not os.path.exists(noisy_001_dir):\n",
    "    os.makedirs(noisy_001_dir)    \n",
    "if not os.path.exists(noisy_005_dir):\n",
    "    os.makedirs(noisy_005_dir)     \n",
    "if not os.path.exists(noisy_g50_dir):\n",
    "    os.makedirs(noisy_g50_dir)    \n",
    "if not os.path.exists(noisy_g100_dir):\n",
    "    os.makedirs(noisy_g100_dir)      \n",
    "if not os.path.exists(cleanout_dir):\n",
    "    os.makedirs(cleanout_dir)     \n",
    "ext = ('.jpg', '.jpg')    "
   ]
  },
  {
   "cell_type": "code",
   "execution_count": 30,
   "metadata": {},
   "outputs": [
    {
     "name": "stdout",
     "output_type": "stream",
     "text": [
      "/media/lab407/F84810BA48107998/BSR/CBSD68/original/106024.jpg\n",
      "106024.npy\n"
     ]
    }
   ],
   "source": [
    "names_hr = sorted(glob.glob(os.path.join(clean_dir, '*' + ext[0])))\n",
    "name = names_hr[5]\n",
    "print(name)\n",
    "print(name[51:-4] + '.npy')\n",
    "image = io.imread(name)"
   ]
  },
  {
   "cell_type": "markdown",
   "metadata": {},
   "source": [
    "## Generate addtive Gaussian Noise images"
   ]
  },
  {
   "cell_type": "code",
   "execution_count": 5,
   "metadata": {},
   "outputs": [],
   "source": [
    "for i in range(len(names_hr)):\n",
    "    f_hr = names_hr[i]\n",
    "    f_lr = names_hr[i][51:-4] +'.npy' \n",
    "    clean = (io.imread(f_hr)/255)\n",
    "    clean = rgb2gray(clean)\n",
    "    noise_25 = np.random.normal(size = clean.shape,scale = 25/255)\n",
    "    noise_50 = np.random.normal(size = clean.shape,scale = 50/255)\n",
    "    noisy_25 = clean + noise_25\n",
    "    noisy_50 = clean + noise_50   \n",
    "    np.save(os.path.join(cleanout_dir,f_lr),clean)\n",
    "    np.save(os.path.join(noisy_25_dir,f_lr),noisy_25)\n",
    "    np.save(os.path.join(noisy_50_dir,f_lr),noisy_50)"
   ]
  },
  {
   "cell_type": "markdown",
   "metadata": {},
   "source": [
    "## Generate Poisson Noise images"
   ]
  },
  {
   "cell_type": "code",
   "execution_count": 37,
   "metadata": {},
   "outputs": [],
   "source": [
    "for i in range(len(names_hr)):\n",
    "    f_hr = names_hr[i]\n",
    "    f_lr = names_hr[i][51:-4] +'.npy' \n",
    "    clean = (io.imread(f_hr)/255)\n",
    "    clean = rgb2gray(clean)\n",
    "    noisy_0_1 = np.random.poisson(clean/0.01) * 0.01\n",
    "    noisy_0_2 = np.random.poisson(clean/0.05) * 0.05\n",
    "    np.save(os.path.join(noisy_01_dir,f_lr),noisy_0_1)\n",
    "    np.save(os.path.join(noisy_02_dir,f_lr),noisy_0_2)"
   ]
  },
  {
   "cell_type": "markdown",
   "metadata": {},
   "source": [
    "## Generate Gamma Noise images"
   ]
  },
  {
   "cell_type": "code",
   "execution_count": 38,
   "metadata": {},
   "outputs": [],
   "source": [
    "for i in range(len(names_hr)):\n",
    "    f_hr = names_hr[i]\n",
    "    f_lr = names_hr[i][51:-4] +'.npy'     \n",
    "    clean = (io.imread(f_hr)/255)\n",
    "    clean = rgb2gray(clean)\n",
    "    noisy_50 = clean*np.random.gamma(50,1/50,clean.shape)\n",
    "    noisy_100 = clean*np.random.gamma(100,1/100,clean.shape)\n",
    "    np.save(os.path.join(noisy_g50_dir,f_lr),noisy_50)\n",
    "    np.save(os.path.join(noisy_g100_dir,f_lr),noisy_100)"
   ]
  }
 ],
 "metadata": {
  "kernelspec": {
   "display_name": "Python 3",
   "language": "python",
   "name": "python3"
  },
  "language_info": {
   "codemirror_mode": {
    "name": "ipython",
    "version": 3
   },
   "file_extension": ".py",
   "mimetype": "text/x-python",
   "name": "python",
   "nbconvert_exporter": "python",
   "pygments_lexer": "ipython3",
   "version": "3.6.12"
  }
 },
 "nbformat": 4,
 "nbformat_minor": 4
}
